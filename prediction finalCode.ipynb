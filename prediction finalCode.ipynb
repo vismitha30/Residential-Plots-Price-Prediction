{
 "cells": [
  {
   "cell_type": "code",
   "execution_count": 85,
   "id": "09534c80",
   "metadata": {},
   "outputs": [],
   "source": [
    "import pandas as pd\n",
    "import numpy as np\n",
    "from matplotlib import pyplot as plt\n",
    "%matplotlib inline\n",
    "import matplotlib\n",
    "matplotlib.rcParams[\"figure.figsize\"]=(32,20)"
   ]
  },
  {
   "cell_type": "code",
   "execution_count": 86,
   "id": "68648d4d",
   "metadata": {},
   "outputs": [
    {
     "data": {
      "text/html": [
       "<div>\n",
       "<style scoped>\n",
       "    .dataframe tbody tr th:only-of-type {\n",
       "        vertical-align: middle;\n",
       "    }\n",
       "\n",
       "    .dataframe tbody tr th {\n",
       "        vertical-align: top;\n",
       "    }\n",
       "\n",
       "    .dataframe thead th {\n",
       "        text-align: right;\n",
       "    }\n",
       "</style>\n",
       "<table border=\"1\" class=\"dataframe\">\n",
       "  <thead>\n",
       "    <tr style=\"text-align: right;\">\n",
       "      <th></th>\n",
       "      <th>location</th>\n",
       "      <th>total_sqft</th>\n",
       "      <th>distance</th>\n",
       "      <th>shapeofplot</th>\n",
       "      <th>neighboringarea</th>\n",
       "      <th>price</th>\n",
       "    </tr>\n",
       "  </thead>\n",
       "  <tbody>\n",
       "    <tr>\n",
       "      <th>0</th>\n",
       "      <td>Derebail</td>\n",
       "      <td>1056</td>\n",
       "      <td>20</td>\n",
       "      <td>Triangle</td>\n",
       "      <td>Dmart</td>\n",
       "      <td>39.07</td>\n",
       "    </tr>\n",
       "    <tr>\n",
       "      <th>1</th>\n",
       "      <td>Kavoor</td>\n",
       "      <td>2600</td>\n",
       "      <td>10</td>\n",
       "      <td>Rectangle</td>\n",
       "      <td>Near Temple</td>\n",
       "      <td>120.00</td>\n",
       "    </tr>\n",
       "    <tr>\n",
       "      <th>2</th>\n",
       "      <td>Lalbagh</td>\n",
       "      <td>1440</td>\n",
       "      <td>50</td>\n",
       "      <td>Circular</td>\n",
       "      <td>Bus Stand</td>\n",
       "      <td>62.00</td>\n",
       "    </tr>\n",
       "    <tr>\n",
       "      <th>3</th>\n",
       "      <td>Kodialbail</td>\n",
       "      <td>1521</td>\n",
       "      <td>20</td>\n",
       "      <td>Triangle</td>\n",
       "      <td>Bus Stand</td>\n",
       "      <td>95.00</td>\n",
       "    </tr>\n",
       "    <tr>\n",
       "      <th>4</th>\n",
       "      <td>Pavoor</td>\n",
       "      <td>1200</td>\n",
       "      <td>25</td>\n",
       "      <td>Triangle</td>\n",
       "      <td>Expert College1</td>\n",
       "      <td>51.00</td>\n",
       "    </tr>\n",
       "  </tbody>\n",
       "</table>\n",
       "</div>"
      ],
      "text/plain": [
       "     location total_sqft  distance             shapeofplot  \\\n",
       "0    Derebail       1056        20                Triangle   \n",
       "1      Kavoor       2600        10               Rectangle   \n",
       "2     Lalbagh       1440        50                Circular   \n",
       "3  Kodialbail       1521        20                Triangle   \n",
       "4      Pavoor       1200        25                Triangle   \n",
       "\n",
       "         neighboringarea   price  \n",
       "0                  Dmart   39.07  \n",
       "1            Near Temple  120.00  \n",
       "2              Bus Stand   62.00  \n",
       "3              Bus Stand   95.00  \n",
       "4        Expert College1   51.00  "
      ]
     },
     "execution_count": 86,
     "metadata": {},
     "output_type": "execute_result"
    }
   ],
   "source": [
    "pred=pd.read_csv(\"C:\\\\Users\\\\User\\\\Desktop\\\\predictionn.csv\")\n",
    "pred.head(5)  #displays first five rows"
   ]
  },
  {
   "cell_type": "code",
   "execution_count": 87,
   "id": "446701e9",
   "metadata": {},
   "outputs": [
    {
     "data": {
      "text/plain": [
       "(500, 6)"
      ]
     },
     "execution_count": 87,
     "metadata": {},
     "output_type": "execute_result"
    }
   ],
   "source": [
    "pred.shape #displays total rows and columns"
   ]
  },
  {
   "cell_type": "code",
   "execution_count": 88,
   "id": "7fdf6b92",
   "metadata": {},
   "outputs": [
    {
     "data": {
      "text/plain": [
       "location            object\n",
       "total_sqft          object\n",
       "distance             int64\n",
       "shapeofplot         object\n",
       "neighboringarea     object\n",
       "price              float64\n",
       "dtype: object"
      ]
     },
     "execution_count": 88,
     "metadata": {},
     "output_type": "execute_result"
    }
   ],
   "source": [
    "pred.dtypes  #checking the datatypes of dataset"
   ]
  },
  {
   "cell_type": "code",
   "execution_count": 89,
   "id": "c4e5c31e",
   "metadata": {},
   "outputs": [
    {
     "data": {
      "text/plain": [
       "location\n",
       "APMC           5\n",
       "Adarshnagar    2\n",
       "Adyar          8\n",
       "Aikala         5\n",
       "Ajekar         1\n",
       "              ..\n",
       "Yekkuru        1\n",
       "Yellare        1\n",
       "Yellur         1\n",
       "Yemmekere      1\n",
       "Yeyyadi        7\n",
       "Name: location, Length: 186, dtype: int64"
      ]
     },
     "execution_count": 89,
     "metadata": {},
     "output_type": "execute_result"
    }
   ],
   "source": [
    "pred.groupby('location')['location'].agg('count') #counting the total number of per locations present in dataset"
   ]
  },
  {
   "cell_type": "code",
   "execution_count": 90,
   "id": "6b485249",
   "metadata": {},
   "outputs": [
    {
     "name": "stdout",
     "output_type": "stream",
     "text": [
      "       location total_sqft  distance             shapeofplot  \\\n",
      "0      Derebail       1056        20                Triangle   \n",
      "1        Kavoor       2600        10               Rectangle   \n",
      "2       Lalbagh       1440        50                Circular   \n",
      "3    Kodialbail       1521        20                Triangle   \n",
      "4        Pavoor       1200        25                Triangle   \n",
      "..          ...        ...       ...                     ...   \n",
      "494      Muchur       1100       560                Circular   \n",
      "495      Nagori       1000       300                Triangle   \n",
      "497      Thodar        950       450                Circular   \n",
      "498      Thokur       1075       600                Circular   \n",
      "499      Thokur       1075       600                Circular   \n",
      "\n",
      "           neighboringarea   price  \n",
      "0                    Dmart   39.07  \n",
      "1              Near Temple  120.00  \n",
      "2                Bus Stand   62.00  \n",
      "3                Bus Stand   95.00  \n",
      "4          Expert College1   51.00  \n",
      "..                     ...     ...  \n",
      "494      Brigade Apartment   63.00  \n",
      "495                 Dmart2   53.00  \n",
      "497               Easyday2   32.00  \n",
      "498               XYZ Park   36.00  \n",
      "499               XYZ Park   36.00  \n",
      "\n",
      "[495 rows x 6 columns]\n"
     ]
    }
   ],
   "source": [
    "pred1=pred.dropna()#Drops the null values if present in dataset\n",
    "print(pred1)"
   ]
  },
  {
   "cell_type": "code",
   "execution_count": 91,
   "id": "e4218909",
   "metadata": {},
   "outputs": [
    {
     "data": {
      "text/plain": [
       "(495, 6)"
      ]
     },
     "execution_count": 91,
     "metadata": {},
     "output_type": "execute_result"
    }
   ],
   "source": [
    "pred1.shape #The size of dataset after removing the null values present in dataset"
   ]
  },
  {
   "cell_type": "code",
   "execution_count": 92,
   "id": "f2796ebd",
   "metadata": {},
   "outputs": [
    {
     "data": {
      "text/html": [
       "<div>\n",
       "<style scoped>\n",
       "    .dataframe tbody tr th:only-of-type {\n",
       "        vertical-align: middle;\n",
       "    }\n",
       "\n",
       "    .dataframe tbody tr th {\n",
       "        vertical-align: top;\n",
       "    }\n",
       "\n",
       "    .dataframe thead th {\n",
       "        text-align: right;\n",
       "    }\n",
       "</style>\n",
       "<table border=\"1\" class=\"dataframe\">\n",
       "  <thead>\n",
       "    <tr style=\"text-align: right;\">\n",
       "      <th></th>\n",
       "      <th>location</th>\n",
       "      <th>total_sqft</th>\n",
       "      <th>distance</th>\n",
       "      <th>shapeofplot</th>\n",
       "      <th>neighboringarea</th>\n",
       "      <th>price</th>\n",
       "    </tr>\n",
       "  </thead>\n",
       "  <tbody>\n",
       "    <tr>\n",
       "      <th>495</th>\n",
       "      <td>Nagori</td>\n",
       "      <td>1000</td>\n",
       "      <td>300</td>\n",
       "      <td>Triangle</td>\n",
       "      <td>Dmart2</td>\n",
       "      <td>53.0</td>\n",
       "    </tr>\n",
       "    <tr>\n",
       "      <th>497</th>\n",
       "      <td>Thodar</td>\n",
       "      <td>950</td>\n",
       "      <td>450</td>\n",
       "      <td>Circular</td>\n",
       "      <td>Easyday2</td>\n",
       "      <td>32.0</td>\n",
       "    </tr>\n",
       "    <tr>\n",
       "      <th>498</th>\n",
       "      <td>Thokur</td>\n",
       "      <td>1075</td>\n",
       "      <td>600</td>\n",
       "      <td>Circular</td>\n",
       "      <td>XYZ Park</td>\n",
       "      <td>36.0</td>\n",
       "    </tr>\n",
       "    <tr>\n",
       "      <th>499</th>\n",
       "      <td>Thokur</td>\n",
       "      <td>1075</td>\n",
       "      <td>600</td>\n",
       "      <td>Circular</td>\n",
       "      <td>XYZ Park</td>\n",
       "      <td>36.0</td>\n",
       "    </tr>\n",
       "  </tbody>\n",
       "</table>\n",
       "</div>"
      ],
      "text/plain": [
       "    location total_sqft  distance           shapeofplot    neighboringarea  \\\n",
       "495   Nagori       1000       300              Triangle             Dmart2   \n",
       "497   Thodar        950       450              Circular           Easyday2   \n",
       "498   Thokur       1075       600              Circular           XYZ Park   \n",
       "499   Thokur       1075       600              Circular           XYZ Park   \n",
       "\n",
       "     price  \n",
       "495   53.0  \n",
       "497   32.0  \n",
       "498   36.0  \n",
       "499   36.0  "
      ]
     },
     "execution_count": 92,
     "metadata": {},
     "output_type": "execute_result"
    }
   ],
   "source": [
    "pred1.tail(4)#To check whether the null values is removed or not(Here row no.496 is removed)"
   ]
  },
  {
   "cell_type": "code",
   "execution_count": 93,
   "id": "a35c01bf",
   "metadata": {},
   "outputs": [
    {
     "data": {
      "text/plain": [
       "498    False\n",
       "499     True\n",
       "dtype: bool"
      ]
     },
     "execution_count": 93,
     "metadata": {},
     "output_type": "execute_result"
    }
   ],
   "source": [
    "res=pred1.duplicated()#If duplicate values is present in dataset then it returns true else false\n",
    "res.tail(2)"
   ]
  },
  {
   "cell_type": "code",
   "execution_count": 94,
   "id": "9d06bc53",
   "metadata": {},
   "outputs": [
    {
     "data": {
      "text/html": [
       "<div>\n",
       "<style scoped>\n",
       "    .dataframe tbody tr th:only-of-type {\n",
       "        vertical-align: middle;\n",
       "    }\n",
       "\n",
       "    .dataframe tbody tr th {\n",
       "        vertical-align: top;\n",
       "    }\n",
       "\n",
       "    .dataframe thead th {\n",
       "        text-align: right;\n",
       "    }\n",
       "</style>\n",
       "<table border=\"1\" class=\"dataframe\">\n",
       "  <thead>\n",
       "    <tr style=\"text-align: right;\">\n",
       "      <th></th>\n",
       "      <th>location</th>\n",
       "      <th>total_sqft</th>\n",
       "      <th>distance</th>\n",
       "      <th>shapeofplot</th>\n",
       "      <th>neighboringarea</th>\n",
       "      <th>price</th>\n",
       "    </tr>\n",
       "  </thead>\n",
       "  <tbody>\n",
       "    <tr>\n",
       "      <th>493</th>\n",
       "      <td>Kote</td>\n",
       "      <td>1150</td>\n",
       "      <td>450</td>\n",
       "      <td>Rectangle</td>\n",
       "      <td>Vikas College</td>\n",
       "      <td>52.5</td>\n",
       "    </tr>\n",
       "    <tr>\n",
       "      <th>494</th>\n",
       "      <td>Muchur</td>\n",
       "      <td>1100</td>\n",
       "      <td>560</td>\n",
       "      <td>Circular</td>\n",
       "      <td>Brigade Apartment</td>\n",
       "      <td>63.0</td>\n",
       "    </tr>\n",
       "    <tr>\n",
       "      <th>495</th>\n",
       "      <td>Nagori</td>\n",
       "      <td>1000</td>\n",
       "      <td>300</td>\n",
       "      <td>Triangle</td>\n",
       "      <td>Dmart2</td>\n",
       "      <td>53.0</td>\n",
       "    </tr>\n",
       "    <tr>\n",
       "      <th>497</th>\n",
       "      <td>Thodar</td>\n",
       "      <td>950</td>\n",
       "      <td>450</td>\n",
       "      <td>Circular</td>\n",
       "      <td>Easyday2</td>\n",
       "      <td>32.0</td>\n",
       "    </tr>\n",
       "    <tr>\n",
       "      <th>498</th>\n",
       "      <td>Thokur</td>\n",
       "      <td>1075</td>\n",
       "      <td>600</td>\n",
       "      <td>Circular</td>\n",
       "      <td>XYZ Park</td>\n",
       "      <td>36.0</td>\n",
       "    </tr>\n",
       "  </tbody>\n",
       "</table>\n",
       "</div>"
      ],
      "text/plain": [
       "    location total_sqft  distance           shapeofplot     neighboringarea  \\\n",
       "493     Kote       1150       450             Rectangle       Vikas College   \n",
       "494   Muchur       1100       560              Circular   Brigade Apartment   \n",
       "495   Nagori       1000       300              Triangle              Dmart2   \n",
       "497   Thodar        950       450              Circular            Easyday2   \n",
       "498   Thokur       1075       600              Circular            XYZ Park   \n",
       "\n",
       "     price  \n",
       "493   52.5  \n",
       "494   63.0  \n",
       "495   53.0  \n",
       "497   32.0  \n",
       "498   36.0  "
      ]
     },
     "execution_count": 94,
     "metadata": {},
     "output_type": "execute_result"
    }
   ],
   "source": [
    "pred2=pred1.drop_duplicates()#Removes the duplicate values present in the dataset\n",
    "pred2.tail(5)"
   ]
  },
  {
   "cell_type": "code",
   "execution_count": 95,
   "id": "2f61c6d6",
   "metadata": {},
   "outputs": [
    {
     "data": {
      "text/plain": [
       "(494, 6)"
      ]
     },
     "execution_count": 95,
     "metadata": {},
     "output_type": "execute_result"
    }
   ],
   "source": [
    "pred2.shape#Shows the number of rows and columns after removing the null values and duplicates "
   ]
  },
  {
   "cell_type": "code",
   "execution_count": 96,
   "id": "3b9b3d5c",
   "metadata": {},
   "outputs": [
    {
     "data": {
      "text/plain": [
       "array(['1056', '2600', '1440', '1521', '1200', '1000', '2732', '3300',\n",
       "       '1310', '1020', '1800', '1100', '2250', '1175', '660', '1540',\n",
       "       '2770', '600', '1755', '2800', '1767', '510', '1250', '1610',\n",
       "       '1151', '1025', '2100', '1075', '1760', '1693', '1925', '700',\n",
       "       '1070', '1724', '1290', '1143', '1296', '1254', '1330', '970',\n",
       "       '1459', '800', '869', '1270', '1670', '2010', '1185', '1600',\n",
       "       '3010', '1500', '1407', '840', '4395', '845', '5700', '1160',\n",
       "       '3000', '1140', '1220', '1350', '1005', '500', '1358', '1569',\n",
       "       '1240', '2089', '1206', '1150', '2511', '460', '4400', '1660',\n",
       "       '2957', '1326', '1325', '1499', '1665', '708', '1060', '710',\n",
       "       '1450', '2894', '2502', '650', '2400', '1007', '966', '1630',\n",
       "       '1640', '782', '1260', '1413', '1116', '1530', '3700', '2497',\n",
       "       '1436', '276', '1427', '2061', '3067', '2650', '1282', '1050',\n",
       "       '945', '950', '1870', '880', '1535', '1360', '1042', '1280',\n",
       "       '5000', '3050', '1167', '4000', '1828', '890', '1612', '1034',\n",
       "       '1710', '957', '2795', '1125', '1735', '2050', '3750', '1063',\n",
       "       '1904', '4200', '2000', '1145', '1425', '1470', '1300', '450',\n",
       "       '1152', '1550', '400', '705', '770', '1242', '1700', '2144',\n",
       "       '1704', '1846', '1340', '1015', '1327', '1186', '1783', '1400',\n",
       "       '980', '1285', '912', '1225', '1909', '1359', '1207', '1736',\n",
       "       '2850', '1595', '1798', '1475', '1580', '1295', '3600', '589',\n",
       "       '1415', '1787', '984', '1520', '2405', '1080', '1900', '805',\n",
       "       '1153', '1148', '1110', '1933', '3500', '645', '1644', '910',\n",
       "       '1577', '4050', '2420', '900', '1108', '3045', '2900', '1162',\n",
       "       '1035', '1464', '1866', '1804', '913', '1868', '883', '1664',\n",
       "       '2026', '1210', '4111', '1762', '1252', '861', '1420', '1490',\n",
       "       '1084', '1017', '1027', '1069', '1349', '1417', '1863', '1010',\n",
       "       '1847', '525', '1850', '1438', '1560', '850', '1170', '1113',\n",
       "       '1385', '1128', '2390', '1645', '1192', '2135', '1173', '3122',\n",
       "       '1200-1400', '1230', '11', '1508', '1592', '1388', '630', '3252',\n",
       "       '1308', '530', '1205', '930', '1380', '2483', '1166', '2023',\n",
       "       '1935', '451', '1801', '1451', '1629', '1826', '1245', '825',\n",
       "       '1460', '1656', '1208', '1910', '12000', '550', '300', '750',\n",
       "       '1090', '1991', '1060-1160', '1105', '985', '1533', '1590', '1120',\n",
       "       '1194', '1419', '2150', '11890', '1715', '1720', '1752', '1650',\n",
       "       '1346', '3309', '1620', '2450', '1130', '1320', '4800', '929',\n",
       "       '1753', '4500', '1196'], dtype=object)"
      ]
     },
     "execution_count": 96,
     "metadata": {},
     "output_type": "execute_result"
    }
   ],
   "source": [
    "pred2.total_sqft.unique()"
   ]
  },
  {
   "cell_type": "code",
   "execution_count": 97,
   "id": "97bea7d2",
   "metadata": {},
   "outputs": [],
   "source": [
    "def is_float(x):\n",
    "    try:\n",
    "        float(x)\n",
    "    except:\n",
    "        return False\n",
    "    return True"
   ]
  },
  {
   "cell_type": "code",
   "execution_count": 98,
   "id": "e120eba4",
   "metadata": {},
   "outputs": [
    {
     "data": {
      "text/html": [
       "<div>\n",
       "<style scoped>\n",
       "    .dataframe tbody tr th:only-of-type {\n",
       "        vertical-align: middle;\n",
       "    }\n",
       "\n",
       "    .dataframe tbody tr th {\n",
       "        vertical-align: top;\n",
       "    }\n",
       "\n",
       "    .dataframe thead th {\n",
       "        text-align: right;\n",
       "    }\n",
       "</style>\n",
       "<table border=\"1\" class=\"dataframe\">\n",
       "  <thead>\n",
       "    <tr style=\"text-align: right;\">\n",
       "      <th></th>\n",
       "      <th>location</th>\n",
       "      <th>total_sqft</th>\n",
       "      <th>distance</th>\n",
       "      <th>shapeofplot</th>\n",
       "      <th>neighboringarea</th>\n",
       "      <th>price</th>\n",
       "    </tr>\n",
       "  </thead>\n",
       "  <tbody>\n",
       "    <tr>\n",
       "      <th>339</th>\n",
       "      <td>Beluvai</td>\n",
       "      <td>1200-1400</td>\n",
       "      <td>6000</td>\n",
       "      <td>Circular</td>\n",
       "      <td>Dmart1</td>\n",
       "      <td>79.0</td>\n",
       "    </tr>\n",
       "    <tr>\n",
       "      <th>422</th>\n",
       "      <td>Kottara</td>\n",
       "      <td>1060-1160</td>\n",
       "      <td>200</td>\n",
       "      <td>Rectangle</td>\n",
       "      <td>Dmart</td>\n",
       "      <td>26.5</td>\n",
       "    </tr>\n",
       "  </tbody>\n",
       "</table>\n",
       "</div>"
      ],
      "text/plain": [
       "    location total_sqft  distance           shapeofplot    neighboringarea  \\\n",
       "339  Beluvai  1200-1400      6000              Circular             Dmart1   \n",
       "422  Kottara  1060-1160       200             Rectangle              Dmart   \n",
       "\n",
       "     price  \n",
       "339   79.0  \n",
       "422   26.5  "
      ]
     },
     "execution_count": 98,
     "metadata": {},
     "output_type": "execute_result"
    }
   ],
   "source": [
    "pred2[~pred2['total_sqft'].apply(is_float)]"
   ]
  },
  {
   "cell_type": "code",
   "execution_count": 99,
   "id": "33cfbde4",
   "metadata": {},
   "outputs": [],
   "source": [
    "def convert_sqft_to_num(x):\n",
    "    tokens=x.split('-')\n",
    "    if len(tokens)==2:\n",
    "        return (float(tokens[0])+float(tokens[1]))/2\n",
    "    try:\n",
    "        return float(x)\n",
    "    except:\n",
    "        return None"
   ]
  },
  {
   "cell_type": "code",
   "execution_count": 100,
   "id": "e1f4d6e0",
   "metadata": {},
   "outputs": [
    {
     "data": {
      "text/plain": [
       "2166.0"
      ]
     },
     "execution_count": 100,
     "metadata": {},
     "output_type": "execute_result"
    }
   ],
   "source": [
    "convert_sqft_to_num('2166')"
   ]
  },
  {
   "cell_type": "code",
   "execution_count": 101,
   "id": "a2135489",
   "metadata": {},
   "outputs": [
    {
     "data": {
      "text/plain": [
       "1300.0"
      ]
     },
     "execution_count": 101,
     "metadata": {},
     "output_type": "execute_result"
    }
   ],
   "source": [
    "convert_sqft_to_num('1200-1400')"
   ]
  },
  {
   "cell_type": "code",
   "execution_count": 102,
   "id": "f196d4c6",
   "metadata": {},
   "outputs": [
    {
     "data": {
      "text/html": [
       "<div>\n",
       "<style scoped>\n",
       "    .dataframe tbody tr th:only-of-type {\n",
       "        vertical-align: middle;\n",
       "    }\n",
       "\n",
       "    .dataframe tbody tr th {\n",
       "        vertical-align: top;\n",
       "    }\n",
       "\n",
       "    .dataframe thead th {\n",
       "        text-align: right;\n",
       "    }\n",
       "</style>\n",
       "<table border=\"1\" class=\"dataframe\">\n",
       "  <thead>\n",
       "    <tr style=\"text-align: right;\">\n",
       "      <th></th>\n",
       "      <th>location</th>\n",
       "      <th>total_sqft</th>\n",
       "      <th>distance</th>\n",
       "      <th>shapeofplot</th>\n",
       "      <th>neighboringarea</th>\n",
       "      <th>price</th>\n",
       "    </tr>\n",
       "  </thead>\n",
       "  <tbody>\n",
       "    <tr>\n",
       "      <th>0</th>\n",
       "      <td>Derebail</td>\n",
       "      <td>1056.0</td>\n",
       "      <td>20</td>\n",
       "      <td>Triangle</td>\n",
       "      <td>Dmart</td>\n",
       "      <td>39.07</td>\n",
       "    </tr>\n",
       "    <tr>\n",
       "      <th>1</th>\n",
       "      <td>Kavoor</td>\n",
       "      <td>2600.0</td>\n",
       "      <td>10</td>\n",
       "      <td>Rectangle</td>\n",
       "      <td>Near Temple</td>\n",
       "      <td>120.00</td>\n",
       "    </tr>\n",
       "    <tr>\n",
       "      <th>2</th>\n",
       "      <td>Lalbagh</td>\n",
       "      <td>1440.0</td>\n",
       "      <td>50</td>\n",
       "      <td>Circular</td>\n",
       "      <td>Bus Stand</td>\n",
       "      <td>62.00</td>\n",
       "    </tr>\n",
       "    <tr>\n",
       "      <th>3</th>\n",
       "      <td>Kodialbail</td>\n",
       "      <td>1521.0</td>\n",
       "      <td>20</td>\n",
       "      <td>Triangle</td>\n",
       "      <td>Bus Stand</td>\n",
       "      <td>95.00</td>\n",
       "    </tr>\n",
       "    <tr>\n",
       "      <th>4</th>\n",
       "      <td>Pavoor</td>\n",
       "      <td>1200.0</td>\n",
       "      <td>25</td>\n",
       "      <td>Triangle</td>\n",
       "      <td>Expert College1</td>\n",
       "      <td>51.00</td>\n",
       "    </tr>\n",
       "    <tr>\n",
       "      <th>...</th>\n",
       "      <td>...</td>\n",
       "      <td>...</td>\n",
       "      <td>...</td>\n",
       "      <td>...</td>\n",
       "      <td>...</td>\n",
       "      <td>...</td>\n",
       "    </tr>\n",
       "    <tr>\n",
       "      <th>335</th>\n",
       "      <td>Aikala</td>\n",
       "      <td>1173.0</td>\n",
       "      <td>1000</td>\n",
       "      <td>Rectangle</td>\n",
       "      <td>Near Temple</td>\n",
       "      <td>58.00</td>\n",
       "    </tr>\n",
       "    <tr>\n",
       "      <th>336</th>\n",
       "      <td>Alangar</td>\n",
       "      <td>1020.0</td>\n",
       "      <td>1000</td>\n",
       "      <td>Rectangle</td>\n",
       "      <td>Bus Stand</td>\n",
       "      <td>45.00</td>\n",
       "    </tr>\n",
       "    <tr>\n",
       "      <th>337</th>\n",
       "      <td>Asaigoli</td>\n",
       "      <td>3122.0</td>\n",
       "      <td>2000</td>\n",
       "      <td>Rectangle</td>\n",
       "      <td>Bus Stand</td>\n",
       "      <td>230.00</td>\n",
       "    </tr>\n",
       "    <tr>\n",
       "      <th>338</th>\n",
       "      <td>Bajal</td>\n",
       "      <td>1600.0</td>\n",
       "      <td>2500</td>\n",
       "      <td>Triangle</td>\n",
       "      <td>Expert College1</td>\n",
       "      <td>64.00</td>\n",
       "    </tr>\n",
       "    <tr>\n",
       "      <th>339</th>\n",
       "      <td>Beluvai</td>\n",
       "      <td>1300.0</td>\n",
       "      <td>6000</td>\n",
       "      <td>Circular</td>\n",
       "      <td>Dmart1</td>\n",
       "      <td>79.00</td>\n",
       "    </tr>\n",
       "  </tbody>\n",
       "</table>\n",
       "<p>340 rows × 6 columns</p>\n",
       "</div>"
      ],
      "text/plain": [
       "       location  total_sqft  distance             shapeofplot  \\\n",
       "0      Derebail      1056.0        20                Triangle   \n",
       "1        Kavoor      2600.0        10               Rectangle   \n",
       "2       Lalbagh      1440.0        50                Circular   \n",
       "3    Kodialbail      1521.0        20                Triangle   \n",
       "4        Pavoor      1200.0        25                Triangle   \n",
       "..          ...         ...       ...                     ...   \n",
       "335      Aikala      1173.0      1000               Rectangle   \n",
       "336     Alangar      1020.0      1000               Rectangle   \n",
       "337    Asaigoli      3122.0      2000               Rectangle   \n",
       "338       Bajal      1600.0      2500                Triangle   \n",
       "339     Beluvai      1300.0      6000                Circular   \n",
       "\n",
       "           neighboringarea   price  \n",
       "0                    Dmart   39.07  \n",
       "1              Near Temple  120.00  \n",
       "2                Bus Stand   62.00  \n",
       "3                Bus Stand   95.00  \n",
       "4          Expert College1   51.00  \n",
       "..                     ...     ...  \n",
       "335            Near Temple   58.00  \n",
       "336              Bus Stand   45.00  \n",
       "337              Bus Stand  230.00  \n",
       "338        Expert College1   64.00  \n",
       "339                 Dmart1   79.00  \n",
       "\n",
       "[340 rows x 6 columns]"
      ]
     },
     "execution_count": 102,
     "metadata": {},
     "output_type": "execute_result"
    }
   ],
   "source": [
    "pred3=pred2.copy()#deep-copy\n",
    "pred3['total_sqft']=pred3['total_sqft'].apply(convert_sqft_to_num)\n",
    "pred3.head(340)"
   ]
  },
  {
   "cell_type": "code",
   "execution_count": 103,
   "id": "50f92bdc",
   "metadata": {},
   "outputs": [
    {
     "data": {
      "text/html": [
       "<div>\n",
       "<style scoped>\n",
       "    .dataframe tbody tr th:only-of-type {\n",
       "        vertical-align: middle;\n",
       "    }\n",
       "\n",
       "    .dataframe tbody tr th {\n",
       "        vertical-align: top;\n",
       "    }\n",
       "\n",
       "    .dataframe thead th {\n",
       "        text-align: right;\n",
       "    }\n",
       "</style>\n",
       "<table border=\"1\" class=\"dataframe\">\n",
       "  <thead>\n",
       "    <tr style=\"text-align: right;\">\n",
       "      <th></th>\n",
       "      <th>location</th>\n",
       "      <th>total_sqft</th>\n",
       "      <th>distance</th>\n",
       "      <th>shapeofplot</th>\n",
       "      <th>neighboringarea</th>\n",
       "      <th>price</th>\n",
       "      <th>price_per_sqft</th>\n",
       "    </tr>\n",
       "  </thead>\n",
       "  <tbody>\n",
       "    <tr>\n",
       "      <th>0</th>\n",
       "      <td>Derebail</td>\n",
       "      <td>1056.0</td>\n",
       "      <td>20</td>\n",
       "      <td>Triangle</td>\n",
       "      <td>Dmart</td>\n",
       "      <td>39.07</td>\n",
       "      <td>3699.810606</td>\n",
       "    </tr>\n",
       "    <tr>\n",
       "      <th>1</th>\n",
       "      <td>Kavoor</td>\n",
       "      <td>2600.0</td>\n",
       "      <td>10</td>\n",
       "      <td>Rectangle</td>\n",
       "      <td>Near Temple</td>\n",
       "      <td>120.00</td>\n",
       "      <td>4615.384615</td>\n",
       "    </tr>\n",
       "    <tr>\n",
       "      <th>2</th>\n",
       "      <td>Lalbagh</td>\n",
       "      <td>1440.0</td>\n",
       "      <td>50</td>\n",
       "      <td>Circular</td>\n",
       "      <td>Bus Stand</td>\n",
       "      <td>62.00</td>\n",
       "      <td>4305.555556</td>\n",
       "    </tr>\n",
       "    <tr>\n",
       "      <th>3</th>\n",
       "      <td>Kodialbail</td>\n",
       "      <td>1521.0</td>\n",
       "      <td>20</td>\n",
       "      <td>Triangle</td>\n",
       "      <td>Bus Stand</td>\n",
       "      <td>95.00</td>\n",
       "      <td>6245.890861</td>\n",
       "    </tr>\n",
       "  </tbody>\n",
       "</table>\n",
       "</div>"
      ],
      "text/plain": [
       "     location  total_sqft  distance           shapeofplot     neighboringarea  \\\n",
       "0    Derebail      1056.0        20              Triangle               Dmart   \n",
       "1      Kavoor      2600.0        10             Rectangle         Near Temple   \n",
       "2     Lalbagh      1440.0        50              Circular           Bus Stand   \n",
       "3  Kodialbail      1521.0        20              Triangle           Bus Stand   \n",
       "\n",
       "    price  price_per_sqft  \n",
       "0   39.07     3699.810606  \n",
       "1  120.00     4615.384615  \n",
       "2   62.00     4305.555556  \n",
       "3   95.00     6245.890861  "
      ]
     },
     "execution_count": 103,
     "metadata": {},
     "output_type": "execute_result"
    }
   ],
   "source": [
    "pred4=pred3.copy()#deep-copy\n",
    "pred4['price_per_sqft']=pred4['price']*100000/pred4['total_sqft'] #Creates another column in dataset.i.e,price_per_sqft\n",
    "pred4.head(4)"
   ]
  },
  {
   "cell_type": "code",
   "execution_count": 104,
   "id": "1c03c9a3",
   "metadata": {},
   "outputs": [
    {
     "data": {
      "text/plain": [
       "186"
      ]
     },
     "execution_count": 104,
     "metadata": {},
     "output_type": "execute_result"
    }
   ],
   "source": [
    "len(pred4.location.unique())#Shows the length of location that contains unique names"
   ]
  },
  {
   "cell_type": "code",
   "execution_count": 105,
   "id": "6354d3ce",
   "metadata": {},
   "outputs": [
    {
     "data": {
      "text/plain": [
       "43"
      ]
     },
     "execution_count": 105,
     "metadata": {},
     "output_type": "execute_result"
    }
   ],
   "source": [
    "len(pred4.neighboringarea.unique())"
   ]
  },
  {
   "cell_type": "code",
   "execution_count": 106,
   "id": "ad281774",
   "metadata": {},
   "outputs": [
    {
     "data": {
      "text/plain": [
       "location\n",
       "Bantwal        11\n",
       "Bajpe          10\n",
       "Attavar         8\n",
       "Adyar           8\n",
       "Kodikal         8\n",
       "               ..\n",
       "Kodialguthu     1\n",
       "Kinnigoli       1\n",
       "Kedinje         1\n",
       "Katipalla       1\n",
       "Lohithnagar     1\n",
       "Name: location, Length: 186, dtype: int64"
      ]
     },
     "execution_count": 106,
     "metadata": {},
     "output_type": "execute_result"
    }
   ],
   "source": [
    "pred4.location=pred4.location.apply(lambda x:x.strip())#Removes if any spaces are present in location column\n",
    "location_stats=pred4.groupby('location')['location'].agg('count').sort_values(ascending=False)\n",
    "location_stats"
   ]
  },
  {
   "cell_type": "code",
   "execution_count": 107,
   "id": "e2699a06",
   "metadata": {},
   "outputs": [
    {
     "data": {
      "text/plain": [
       "location\n",
       "Falnir         4\n",
       "Bajal          4\n",
       "Balkudru       4\n",
       "Manipal        4\n",
       "Mallar         4\n",
       "              ..\n",
       "Kodialguthu    1\n",
       "Kinnigoli      1\n",
       "Kedinje        1\n",
       "Katipalla      1\n",
       "Lohithnagar    1\n",
       "Name: location, Length: 153, dtype: int64"
      ]
     },
     "execution_count": 107,
     "metadata": {},
     "output_type": "execute_result"
    }
   ],
   "source": [
    "location_stats1=location_stats[location_stats<=4]#Displays the number of locations that is repeated less than or equal to 5\n",
    "location_stats1"
   ]
  },
  {
   "cell_type": "code",
   "execution_count": 108,
   "id": "80ba10ad",
   "metadata": {},
   "outputs": [
    {
     "data": {
      "text/plain": [
       "34"
      ]
     },
     "execution_count": 108,
     "metadata": {},
     "output_type": "execute_result"
    }
   ],
   "source": [
    "pred4.location=pred4.location.apply(lambda x:'other'if x in location_stats1 else x)#Displays other in the place where the number of locations is less than or equal to 5\n",
    "len(pred4.location.unique())"
   ]
  },
  {
   "cell_type": "code",
   "execution_count": 109,
   "id": "8698ea9c",
   "metadata": {},
   "outputs": [
    {
     "data": {
      "text/html": [
       "<div>\n",
       "<style scoped>\n",
       "    .dataframe tbody tr th:only-of-type {\n",
       "        vertical-align: middle;\n",
       "    }\n",
       "\n",
       "    .dataframe tbody tr th {\n",
       "        vertical-align: top;\n",
       "    }\n",
       "\n",
       "    .dataframe thead th {\n",
       "        text-align: right;\n",
       "    }\n",
       "</style>\n",
       "<table border=\"1\" class=\"dataframe\">\n",
       "  <thead>\n",
       "    <tr style=\"text-align: right;\">\n",
       "      <th></th>\n",
       "      <th>location</th>\n",
       "      <th>total_sqft</th>\n",
       "      <th>distance</th>\n",
       "      <th>shapeofplot</th>\n",
       "      <th>neighboringarea</th>\n",
       "      <th>price</th>\n",
       "      <th>price_per_sqft</th>\n",
       "    </tr>\n",
       "  </thead>\n",
       "  <tbody>\n",
       "    <tr>\n",
       "      <th>0</th>\n",
       "      <td>Derebail</td>\n",
       "      <td>1056.0</td>\n",
       "      <td>20</td>\n",
       "      <td>Triangle</td>\n",
       "      <td>Dmart</td>\n",
       "      <td>39.07</td>\n",
       "      <td>3699.810606</td>\n",
       "    </tr>\n",
       "    <tr>\n",
       "      <th>1</th>\n",
       "      <td>other</td>\n",
       "      <td>2600.0</td>\n",
       "      <td>10</td>\n",
       "      <td>Rectangle</td>\n",
       "      <td>Near Temple</td>\n",
       "      <td>120.00</td>\n",
       "      <td>4615.384615</td>\n",
       "    </tr>\n",
       "    <tr>\n",
       "      <th>2</th>\n",
       "      <td>other</td>\n",
       "      <td>1440.0</td>\n",
       "      <td>50</td>\n",
       "      <td>Circular</td>\n",
       "      <td>Bus Stand</td>\n",
       "      <td>62.00</td>\n",
       "      <td>4305.555556</td>\n",
       "    </tr>\n",
       "    <tr>\n",
       "      <th>3</th>\n",
       "      <td>other</td>\n",
       "      <td>1521.0</td>\n",
       "      <td>20</td>\n",
       "      <td>Triangle</td>\n",
       "      <td>Bus Stand</td>\n",
       "      <td>95.00</td>\n",
       "      <td>6245.890861</td>\n",
       "    </tr>\n",
       "    <tr>\n",
       "      <th>4</th>\n",
       "      <td>other</td>\n",
       "      <td>1200.0</td>\n",
       "      <td>25</td>\n",
       "      <td>Triangle</td>\n",
       "      <td>Expert College1</td>\n",
       "      <td>51.00</td>\n",
       "      <td>4250.000000</td>\n",
       "    </tr>\n",
       "    <tr>\n",
       "      <th>5</th>\n",
       "      <td>Bajpe</td>\n",
       "      <td>1000.0</td>\n",
       "      <td>20</td>\n",
       "      <td>Circular</td>\n",
       "      <td>Dmart1</td>\n",
       "      <td>38.00</td>\n",
       "      <td>3800.000000</td>\n",
       "    </tr>\n",
       "    <tr>\n",
       "      <th>6</th>\n",
       "      <td>Ullala</td>\n",
       "      <td>2732.0</td>\n",
       "      <td>10</td>\n",
       "      <td>Circular</td>\n",
       "      <td>Habitat Apartment</td>\n",
       "      <td>204.00</td>\n",
       "      <td>7467.057101</td>\n",
       "    </tr>\n",
       "    <tr>\n",
       "      <th>7</th>\n",
       "      <td>Derebail</td>\n",
       "      <td>3300.0</td>\n",
       "      <td>20</td>\n",
       "      <td>Rectangle</td>\n",
       "      <td>Land Trades Apartment</td>\n",
       "      <td>600.00</td>\n",
       "      <td>18181.818182</td>\n",
       "    </tr>\n",
       "    <tr>\n",
       "      <th>8</th>\n",
       "      <td>Boloor</td>\n",
       "      <td>1310.0</td>\n",
       "      <td>25</td>\n",
       "      <td>Circular</td>\n",
       "      <td>Canara School</td>\n",
       "      <td>63.25</td>\n",
       "      <td>4828.244275</td>\n",
       "    </tr>\n",
       "    <tr>\n",
       "      <th>9</th>\n",
       "      <td>Ammunje</td>\n",
       "      <td>1020.0</td>\n",
       "      <td>35</td>\n",
       "      <td>Triangle</td>\n",
       "      <td>Vikas College</td>\n",
       "      <td>370.00</td>\n",
       "      <td>36274.509804</td>\n",
       "    </tr>\n",
       "  </tbody>\n",
       "</table>\n",
       "</div>"
      ],
      "text/plain": [
       "   location  total_sqft  distance             shapeofplot  \\\n",
       "0  Derebail      1056.0        20                Triangle   \n",
       "1     other      2600.0        10               Rectangle   \n",
       "2     other      1440.0        50                Circular   \n",
       "3     other      1521.0        20                Triangle   \n",
       "4     other      1200.0        25                Triangle   \n",
       "5     Bajpe      1000.0        20                Circular   \n",
       "6    Ullala      2732.0        10                Circular   \n",
       "7  Derebail      3300.0        20               Rectangle   \n",
       "8    Boloor      1310.0        25                Circular   \n",
       "9   Ammunje      1020.0        35                Triangle   \n",
       "\n",
       "          neighboringarea   price  price_per_sqft  \n",
       "0                   Dmart   39.07     3699.810606  \n",
       "1             Near Temple  120.00     4615.384615  \n",
       "2               Bus Stand   62.00     4305.555556  \n",
       "3               Bus Stand   95.00     6245.890861  \n",
       "4         Expert College1   51.00     4250.000000  \n",
       "5                  Dmart1   38.00     3800.000000  \n",
       "6       Habitat Apartment  204.00     7467.057101  \n",
       "7   Land Trades Apartment  600.00    18181.818182  \n",
       "8           Canara School   63.25     4828.244275  \n",
       "9           Vikas College  370.00    36274.509804  "
      ]
     },
     "execution_count": 109,
     "metadata": {},
     "output_type": "execute_result"
    }
   ],
   "source": [
    "pred4.head(10)"
   ]
  },
  {
   "cell_type": "code",
   "execution_count": 110,
   "id": "486fe456",
   "metadata": {},
   "outputs": [
    {
     "data": {
      "text/plain": [
       "(494, 7)"
      ]
     },
     "execution_count": 110,
     "metadata": {},
     "output_type": "execute_result"
    }
   ],
   "source": [
    "pred4.shape"
   ]
  },
  {
   "cell_type": "code",
   "execution_count": 32,
   "id": "9aab1b8e",
   "metadata": {},
   "outputs": [
    {
     "data": {
      "text/plain": [
       "count       494.000000\n",
       "mean       7982.223666\n",
       "std       30263.399425\n",
       "min        1875.000000\n",
       "25%        4301.388889\n",
       "50%        5438.708760\n",
       "75%        6993.381811\n",
       "max      672727.272727\n",
       "Name: price_per_sqft, dtype: float64"
      ]
     },
     "execution_count": 32,
     "metadata": {},
     "output_type": "execute_result"
    }
   ],
   "source": [
    "pred4.price_per_sqft.describe()"
   ]
  },
  {
   "cell_type": "code",
   "execution_count": 111,
   "id": "44120fa5",
   "metadata": {},
   "outputs": [
    {
     "data": {
      "text/plain": [
       "(439, 7)"
      ]
     },
     "execution_count": 111,
     "metadata": {},
     "output_type": "execute_result"
    }
   ],
   "source": [
    "#Since the max. price_per_sqft is very high so we need to reduce it to get the better performance so we make use of this function.This function is used to remove the values that is greater or lesser than standard deviation and mean \n",
    "\n",
    "def remove_outliers(df):\n",
    "    df_out=pd.DataFrame()\n",
    "    for key,subdf in df.groupby('location'):\n",
    "            m=np.mean(subdf.price_per_sqft)\n",
    "            st=np.std(subdf.price_per_sqft)\n",
    "            red1=subdf[(subdf.price_per_sqft>(m-st))& (subdf.price_per_sqft<=(m+st))]\n",
    "            df_out=pd.concat([df_out,red1],ignore_index=True)\n",
    "    return df_out\n",
    "pred5=remove_outliers(pred4)\n",
    "pred5.shape"
   ]
  },
  {
   "cell_type": "code",
   "execution_count": 135,
   "id": "5c84801f",
   "metadata": {},
   "outputs": [
    {
     "data": {
      "image/png": "[encoded data removed]",
      "text/plain": [
       "<Figure size 3200x2000 with 1 Axes>"
      ]
     },
     "metadata": {},
     "output_type": "display_data"
    }
   ],
   "source": [
    "import seaborn as sns\n",
    "sns.barplot(x=\"distance\",y=\"price\",data=pred5)\n",
    "plt.xlabel('distance',fontsize=18)\n",
    "plt.ylabel('price',fontsize=18)\n",
    "plt.xticks(fontsize=11)\n",
    "plt.yticks(fontsize=11)\n",
    "plt.show()#Displays the barplot"
   ]
  },
  {
   "cell_type": "code",
   "execution_count": 136,
   "id": "721db48a",
   "metadata": {},
   "outputs": [
    {
     "data": {
      "image/png": "[encoded data removed]",
      "text/plain": [
       "<Figure size 1500x1000 with 1 Axes>"
      ]
     },
     "metadata": {},
     "output_type": "display_data"
    }
   ],
   "source": [
    "def plot_scatter_chart(df,location):\n",
    "    distance1= df[(df.location==location) & (df.distance>1000)]\n",
    "    distance2= df[(df.location==location) & (df.distance<1000)]\n",
    "    matplotlib.rcParams['figure.figsize'] = (15,10)\n",
    "    plt.scatter(distance1.total_sqft,distance1.price,marker='*',color='blue',label='distance>1000', s=50)\n",
    "    plt.scatter(distance2.total_sqft,distance2.price,marker='+', color='red',label='distance<1000', s=50)\n",
    "    plt.xlabel(\"Total Square Feet Area\")\n",
    "    plt.ylabel(\"Price (Lakh Indian Rupees)\")\n",
    "    plt.title(location)\n",
    "    plt.legend()\n",
    "    \n",
    "plot_scatter_chart(pred5,\"Kadri\")#Displays the scatter chart for location named \"Kadri\" w.r.t its total_sqft and price of residential plot"
   ]
  },
  {
   "cell_type": "code",
   "execution_count": 137,
   "id": "3e31fa41",
   "metadata": {},
   "outputs": [
    {
     "data": {
      "image/png": "[encoded data removed]",
      "text/plain": [
       "<Figure size 1500x1000 with 1 Axes>"
      ]
     },
     "metadata": {},
     "output_type": "display_data"
    }
   ],
   "source": [
    "def plot_scatter_chart(df,location):\n",
    "    distance1= df[(df.location==location) & (df.distance>1000)]\n",
    "    distance2= df[(df.location==location) & (df.distance<1000)]\n",
    "    matplotlib.rcParams['figure.figsize'] = (15,10)\n",
    "    plt.scatter(distance1.total_sqft,distance1.price,marker='*',color='blue',label='distance>1000', s=50)\n",
    "    plt.scatter(distance2.total_sqft,distance2.price,marker='+', color='red',label='distance<1000', s=50)\n",
    "    plt.xlabel(\"Total Square Feet Area\")\n",
    "    plt.ylabel(\"Price (Lakh Indian Rupees)\")\n",
    "    plt.title(location)\n",
    "    plt.legend()\n",
    "    \n",
    "plot_scatter_chart(pred5,\"Derebail\")#Displays the scatter chart for location named \"Derebail\" w.r.t its total_sqft and price of residential plot"
   ]
  },
  {
   "cell_type": "code",
   "execution_count": 138,
   "id": "10637823",
   "metadata": {},
   "outputs": [
    {
     "data": {
      "text/html": [
       "<div>\n",
       "<style scoped>\n",
       "    .dataframe tbody tr th:only-of-type {\n",
       "        vertical-align: middle;\n",
       "    }\n",
       "\n",
       "    .dataframe tbody tr th {\n",
       "        vertical-align: top;\n",
       "    }\n",
       "\n",
       "    .dataframe thead th {\n",
       "        text-align: right;\n",
       "    }\n",
       "</style>\n",
       "<table border=\"1\" class=\"dataframe\">\n",
       "  <thead>\n",
       "    <tr style=\"text-align: right;\">\n",
       "      <th></th>\n",
       "      <th>location</th>\n",
       "      <th>total_sqft</th>\n",
       "      <th>distance</th>\n",
       "      <th>price</th>\n",
       "      <th>price_per_sqft</th>\n",
       "    </tr>\n",
       "  </thead>\n",
       "  <tbody>\n",
       "    <tr>\n",
       "      <th>0</th>\n",
       "      <td>APMC</td>\n",
       "      <td>1000.0</td>\n",
       "      <td>85</td>\n",
       "      <td>70.0</td>\n",
       "      <td>7000.000000</td>\n",
       "    </tr>\n",
       "    <tr>\n",
       "      <th>1</th>\n",
       "      <td>APMC</td>\n",
       "      <td>2000.0</td>\n",
       "      <td>85</td>\n",
       "      <td>120.0</td>\n",
       "      <td>6000.000000</td>\n",
       "    </tr>\n",
       "    <tr>\n",
       "      <th>2</th>\n",
       "      <td>APMC</td>\n",
       "      <td>1440.0</td>\n",
       "      <td>28</td>\n",
       "      <td>95.0</td>\n",
       "      <td>6597.222222</td>\n",
       "    </tr>\n",
       "    <tr>\n",
       "      <th>3</th>\n",
       "      <td>Adyar</td>\n",
       "      <td>1000.0</td>\n",
       "      <td>50</td>\n",
       "      <td>38.0</td>\n",
       "      <td>3800.000000</td>\n",
       "    </tr>\n",
       "    <tr>\n",
       "      <th>4</th>\n",
       "      <td>Adyar</td>\n",
       "      <td>1600.0</td>\n",
       "      <td>90</td>\n",
       "      <td>65.0</td>\n",
       "      <td>4062.500000</td>\n",
       "    </tr>\n",
       "  </tbody>\n",
       "</table>\n",
       "</div>"
      ],
      "text/plain": [
       "  location  total_sqft  distance  price  price_per_sqft\n",
       "0     APMC      1000.0        85   70.0     7000.000000\n",
       "1     APMC      2000.0        85  120.0     6000.000000\n",
       "2     APMC      1440.0        28   95.0     6597.222222\n",
       "3    Adyar      1000.0        50   38.0     3800.000000\n",
       "4    Adyar      1600.0        90   65.0     4062.500000"
      ]
     },
     "execution_count": 138,
     "metadata": {},
     "output_type": "execute_result"
    }
   ],
   "source": [
    "pred6=pred5.drop(['shapeofplot','neighboringarea'],axis='columns')#Drops the location column because we have performed one-hot encoding which would give better accuracy and other columns are removed which is not required\n",
    "pred6.head(5)"
   ]
  },
  {
   "cell_type": "code",
   "execution_count": 139,
   "id": "196fa7c9",
   "metadata": {},
   "outputs": [],
   "source": [
    "pred6.to_csv(\"C:\\\\Users\\\\User\\\\Desktop\\\\Cleaneddata2.csv\")"
   ]
  },
  {
   "cell_type": "code",
   "execution_count": 140,
   "id": "4bfb4f77",
   "metadata": {},
   "outputs": [
    {
     "data": {
      "text/html": [
       "<div>\n",
       "<style scoped>\n",
       "    .dataframe tbody tr th:only-of-type {\n",
       "        vertical-align: middle;\n",
       "    }\n",
       "\n",
       "    .dataframe tbody tr th {\n",
       "        vertical-align: top;\n",
       "    }\n",
       "\n",
       "    .dataframe thead th {\n",
       "        text-align: right;\n",
       "    }\n",
       "</style>\n",
       "<table border=\"1\" class=\"dataframe\">\n",
       "  <thead>\n",
       "    <tr style=\"text-align: right;\">\n",
       "      <th></th>\n",
       "      <th>location</th>\n",
       "      <th>total_sqft</th>\n",
       "      <th>distance</th>\n",
       "      <th>price_per_sqft</th>\n",
       "    </tr>\n",
       "  </thead>\n",
       "  <tbody>\n",
       "    <tr>\n",
       "      <th>0</th>\n",
       "      <td>APMC</td>\n",
       "      <td>1000.0</td>\n",
       "      <td>85</td>\n",
       "      <td>7000.000000</td>\n",
       "    </tr>\n",
       "    <tr>\n",
       "      <th>1</th>\n",
       "      <td>APMC</td>\n",
       "      <td>2000.0</td>\n",
       "      <td>85</td>\n",
       "      <td>6000.000000</td>\n",
       "    </tr>\n",
       "    <tr>\n",
       "      <th>2</th>\n",
       "      <td>APMC</td>\n",
       "      <td>1440.0</td>\n",
       "      <td>28</td>\n",
       "      <td>6597.222222</td>\n",
       "    </tr>\n",
       "    <tr>\n",
       "      <th>3</th>\n",
       "      <td>Adyar</td>\n",
       "      <td>1000.0</td>\n",
       "      <td>50</td>\n",
       "      <td>3800.000000</td>\n",
       "    </tr>\n",
       "    <tr>\n",
       "      <th>4</th>\n",
       "      <td>Adyar</td>\n",
       "      <td>1600.0</td>\n",
       "      <td>90</td>\n",
       "      <td>4062.500000</td>\n",
       "    </tr>\n",
       "  </tbody>\n",
       "</table>\n",
       "</div>"
      ],
      "text/plain": [
       "  location  total_sqft  distance  price_per_sqft\n",
       "0     APMC      1000.0        85     7000.000000\n",
       "1     APMC      2000.0        85     6000.000000\n",
       "2     APMC      1440.0        28     6597.222222\n",
       "3    Adyar      1000.0        50     3800.000000\n",
       "4    Adyar      1600.0        90     4062.500000"
      ]
     },
     "execution_count": 140,
     "metadata": {},
     "output_type": "execute_result"
    }
   ],
   "source": [
    "X= pred6.drop(['price'],axis='columns')\n",
    "X.head(5)"
   ]
  },
  {
   "cell_type": "code",
   "execution_count": 141,
   "id": "23896ae2",
   "metadata": {},
   "outputs": [
    {
     "data": {
      "text/plain": [
       "0     70.0\n",
       "1    120.0\n",
       "2     95.0\n",
       "3     38.0\n",
       "4     65.0\n",
       "5    250.0\n",
       "Name: price, dtype: float64"
      ]
     },
     "execution_count": 141,
     "metadata": {},
     "output_type": "execute_result"
    }
   ],
   "source": [
    "y = pred5.price\n",
    "y.head(6)"
   ]
  },
  {
   "cell_type": "code",
   "execution_count": 142,
   "id": "5cf04582",
   "metadata": {},
   "outputs": [],
   "source": [
    "from sklearn.model_selection import train_test_split\n",
    "\n",
    "X_train, X_test, y_train, y_test = train_test_split(X,y,test_size=0.2,random_state=10)"
   ]
  },
  {
   "cell_type": "code",
   "execution_count": 143,
   "id": "015da5c0",
   "metadata": {},
   "outputs": [
    {
     "name": "stdout",
     "output_type": "stream",
     "text": [
      "(351, 4)\n",
      "(88, 4)\n"
     ]
    }
   ],
   "source": [
    "print(X_train.shape)\n",
    "print(X_test.shape)"
   ]
  },
  {
   "cell_type": "code",
   "execution_count": 144,
   "id": "430e6471",
   "metadata": {},
   "outputs": [
    {
     "name": "stderr",
     "output_type": "stream",
     "text": [
      "C:\\Users\\User\\anaconda3\\Lib\\site-packages\\sklearn\\preprocessing\\_encoders.py:972: FutureWarning: `sparse` was renamed to `sparse_output` in version 1.2 and will be removed in 1.4. `sparse_output` is ignored unless you leave `sparse` to its default value.\n",
      "  warnings.warn(\n"
     ]
    },
    {
     "data": {
      "text/plain": [
       "0.8897601828336743"
      ]
     },
     "execution_count": 144,
     "metadata": {},
     "output_type": "execute_result"
    }
   ],
   "source": [
    "from sklearn.linear_model import LinearRegression,Ridge\n",
    "from sklearn.preprocessing import OneHotEncoder,StandardScaler\n",
    "from sklearn.compose import make_column_transformer\n",
    "from sklearn.pipeline import make_pipeline\n",
    "from sklearn.metrics import r2_score\n",
    "\n",
    "\n",
    "\n",
    "\n",
    "column_trans=make_column_transformer((OneHotEncoder(sparse=False),['location']),remainder='passthrough')\n",
    "scaler=StandardScaler()\n",
    "lr=LinearRegression()\n",
    "pipe=make_pipeline(column_trans,scaler,lr)\n",
    "pipe.fit(X_train,y_train)\n",
    "y_pred_lr=pipe.predict(X_test)\n",
    "r2_score(y_test,y_pred_lr)\n",
    "\n"
   ]
  },
  {
   "cell_type": "code",
   "execution_count": 145,
   "id": "a3a16c0d",
   "metadata": {},
   "outputs": [
    {
     "data": {
      "text/plain": [
       "Text(0, 0.5, 'Predicted prices')"
      ]
     },
     "execution_count": 145,
     "metadata": {},
     "output_type": "execute_result"
    },
    {
     "data": {
      "image/png": "[encoded data removed]",
      "text/plain": [
       "<Figure size 1500x1000 with 1 Axes>"
      ]
     },
     "metadata": {},
     "output_type": "display_data"
    }
   ],
   "source": [
    "#predictions=pipe.predict(X_test)\n",
    "\n",
    "plt.scatter(y_test,y_pred_lr,color='g')\n",
    "plt.xlabel('Actual prices')\n",
    "plt.ylabel('Predicted prices')"
   ]
  },
  {
   "cell_type": "code",
   "execution_count": 146,
   "id": "c28dbf1d",
   "metadata": {},
   "outputs": [
    {
     "name": "stderr",
     "output_type": "stream",
     "text": [
      "C:\\Users\\User\\anaconda3\\Lib\\site-packages\\sklearn\\preprocessing\\_encoders.py:972: FutureWarning: `sparse` was renamed to `sparse_output` in version 1.2 and will be removed in 1.4. `sparse_output` is ignored unless you leave `sparse` to its default value.\n",
      "  warnings.warn(\n"
     ]
    },
    {
     "data": {
      "text/plain": [
       "0.8898541855958338"
      ]
     },
     "execution_count": 146,
     "metadata": {},
     "output_type": "execute_result"
    }
   ],
   "source": [
    "ridge=Ridge()\n",
    "pipe=make_pipeline(column_trans,scaler,ridge)\n",
    "pipe.fit(X_train,y_train)\n",
    "y_pred_ridge=pipe.predict(X_test)\n",
    "r2_score(y_test,y_pred_ridge)"
   ]
  },
  {
   "cell_type": "code",
   "execution_count": 147,
   "id": "5a72de46",
   "metadata": {},
   "outputs": [],
   "source": [
    "import pickle\n",
    "pickle.dump(pipe,open('C:\\\\Users\\\\User\\\\Desktop\\\\prediction1.pkl','wb'))"
   ]
  }
 ],
 "metadata": {
  "kernelspec": {
   "display_name": "Python 3 (ipykernel)",
   "language": "python",
   "name": "python3"
  },
  "language_info": {
   "codemirror_mode": {
    "name": "ipython",
    "version": 3
   },
   "file_extension": ".py",
   "mimetype": "text/x-python",
   "name": "python",
   "nbconvert_exporter": "python",
   "pygments_lexer": "ipython3",
   "version": "3.10.5"
  }
 },
 "nbformat": 4,
 "nbformat_minor": 5
}
